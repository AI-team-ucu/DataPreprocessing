{
 "cells": [
  {
   "cell_type": "code",
   "execution_count": 1,
   "id": "adf7e27e",
   "metadata": {},
   "outputs": [
    {
     "name": "stdout",
     "output_type": "stream",
     "text": [
      "\u001b[33m  DEPRECATION: Building 'langdetect' using the legacy setup.py bdist_wheel mechanism, which will be removed in a future version. pip 25.3 will enforce this behaviour change. A possible replacement is to use the standardized build interface by setting the `--use-pep517` option, (possibly combined with `--no-build-isolation`), or adding a `pyproject.toml` file to the source tree of 'langdetect'. Discussion can be found at https://github.com/pypa/pip/issues/6334\u001b[0m\u001b[33m\n",
      "\u001b[0m\u001b[38;5;2m✔ Download and installation successful\u001b[0m\n",
      "You can now load the package via spacy.load('en_core_web_sm')\n"
     ]
    }
   ],
   "source": [
    "!pip install pandas tqdm spacy langdetect nltk --quiet\n",
    "!python -m spacy download en_core_web_sm --quiet"
   ]
  },
  {
   "cell_type": "code",
   "execution_count": 9,
   "id": "3348b456",
   "metadata": {},
   "outputs": [],
   "source": [
    "import pandas as pd\n",
    "import re\n",
    "import emoji\n",
    "import unicodedata\n",
    "from tqdm import tqdm\n",
    "from langdetect import detect\n",
    "import spacy"
   ]
  },
  {
   "cell_type": "code",
   "execution_count": 10,
   "id": "797afd3e",
   "metadata": {},
   "outputs": [],
   "source": [
    "nlp = spacy.load(\"en_core_web_sm\", disable=[\"parser\", \"ner\"])\n",
    "\n",
    "tqdm.pandas()"
   ]
  },
  {
   "cell_type": "code",
   "execution_count": null,
   "id": "27421c41",
   "metadata": {},
   "outputs": [],
   "source": [
    "def normalize_unicode(text: str) -> str:\n",
    "    \"\"\"Normalize Unicode and remove invisible / separator characters.\"\"\"\n",
    "    text = str(text)\n",
    "    text = unicodedata.normalize(\"NFKC\", text)\n",
    "    text = text.replace(\"\\u2028\", \" \").replace(\"\\u2029\", \" \")\n",
    "    text = text.replace(\"\\u200d\", \"\").replace(\"\\u200c\", \"\").replace(\"\\u200b\", \"\")\n",
    "    return text\n",
    "\n",
    "\n",
    "def extract_emojis(text: str) -> str:\n",
    "    \"\"\"Extract all emojis from text.\"\"\"\n",
    "    return \"\".join(ch for ch in str(text) if ch in emoji.EMOJI_DATA)\n",
    "\n",
    "\n",
    "def remove_emojis(text: str) -> str:\n",
    "    \"\"\"Remove all emojis from text.\"\"\"\n",
    "    return emoji.replace_emoji(str(text), replace='')\n",
    "\n",
    "\n",
    "def clean_text(text: str) -> str:\n",
    "    \"\"\"Lowercase, remove URLs, punctuation, extra spaces; keep negations.\"\"\"\n",
    "    text = normalize_unicode(text)\n",
    "    text = re.sub(r\"http\\S+|www\\S+\", \" \", text)\n",
    "    text = text.lower()\n",
    "    text = re.sub(r\"[^a-z\\s']\", \" \", text)\n",
    "    text = re.sub(r\"\\s+\", \" \", text).strip()\n",
    "    return text\n",
    "\n",
    "\n",
    "def detect_lang_safe(text: str) -> str:\n",
    "    \"\"\"Detect language; safely return 'unk' if detection fails.\"\"\"\n",
    "    try:\n",
    "        return detect(text)\n",
    "    except Exception:\n",
    "        return \"unk\"\n",
    "\n",
    "\n",
    "def lemmatize_en(text: str) -> str:\n",
    "    \"\"\"Lemmatize English text, remove stopwords and short tokens.\"\"\"\n",
    "    doc = nlp(text)\n",
    "    lemmas = [token.lemma_ for token in doc if not token.is_stop and len(token) > 2]\n",
    "    return \" \".join(lemmas)\n"
   ]
  },
  {
   "cell_type": "code",
   "execution_count": 12,
   "id": "3d244bef",
   "metadata": {},
   "outputs": [
    {
     "name": "stdout",
     "output_type": "stream",
     "text": [
      "Loaded 77912 comments from youtube_comments.csv\n"
     ]
    }
   ],
   "source": [
    "INPUT_FILE = \"youtube_comments.csv\"\n",
    "OUTPUT_FILE = \"youtube_comments_english.csv\"\n",
    "\n",
    "df = pd.read_csv(INPUT_FILE, dtype=str).fillna(\"\")\n",
    "print(f\"Loaded {len(df)} comments from {INPUT_FILE}\")"
   ]
  },
  {
   "cell_type": "code",
   "execution_count": 13,
   "id": "a33969b9",
   "metadata": {},
   "outputs": [],
   "source": [
    "df[\"comment\"] = df[\"comment\"].astype(str).apply(normalize_unicode)\n",
    "df[\"emojis\"] = df[\"comment\"].apply(extract_emojis)\n",
    "df[\"has_emoji\"] = df[\"emojis\"].apply(lambda x: len(x) > 0)\n",
    "df[\"comment_noemoji\"] = df[\"comment\"].apply(remove_emojis)\n",
    "df[\"clean_comment\"] = df[\"comment_noemoji\"].apply(clean_text)"
   ]
  },
  {
   "cell_type": "code",
   "execution_count": 14,
   "id": "9c3aa880",
   "metadata": {},
   "outputs": [
    {
     "name": "stderr",
     "output_type": "stream",
     "text": [
      "100%|██████████| 77912/77912 [02:38<00:00, 491.08it/s]\n"
     ]
    },
    {
     "name": "stdout",
     "output_type": "stream",
     "text": [
      "Kept 68557 English comments out of 77912 total\n"
     ]
    }
   ],
   "source": [
    "df[\"lang\"] = df[\"clean_comment\"].progress_apply(detect_lang_safe)\n",
    "df_en = df[df[\"lang\"] == \"en\"].copy()\n",
    "print(f\"Kept {len(df_en)} English comments out of {len(df)} total\")"
   ]
  },
  {
   "cell_type": "code",
   "execution_count": 15,
   "id": "b9c1d964",
   "metadata": {},
   "outputs": [
    {
     "name": "stderr",
     "output_type": "stream",
     "text": [
      "100%|██████████| 68557/68557 [02:56<00:00, 388.46it/s]\n"
     ]
    }
   ],
   "source": [
    "df_en[\"lemma_comment\"] = df_en[\"clean_comment\"].progress_apply(lemmatize_en)"
   ]
  },
  {
   "cell_type": "code",
   "execution_count": 16,
   "id": "2b15aac0",
   "metadata": {},
   "outputs": [
    {
     "name": "stdout",
     "output_type": "stream",
     "text": [
      "Saved clean English-only dataset to youtube_comments_english.csv\n"
     ]
    },
    {
     "data": {
      "text/html": [
       "<div>\n",
       "<style scoped>\n",
       "    .dataframe tbody tr th:only-of-type {\n",
       "        vertical-align: middle;\n",
       "    }\n",
       "\n",
       "    .dataframe tbody tr th {\n",
       "        vertical-align: top;\n",
       "    }\n",
       "\n",
       "    .dataframe thead th {\n",
       "        text-align: right;\n",
       "    }\n",
       "</style>\n",
       "<table border=\"1\" class=\"dataframe\">\n",
       "  <thead>\n",
       "    <tr style=\"text-align: right;\">\n",
       "      <th></th>\n",
       "      <th>id</th>\n",
       "      <th>video_title</th>\n",
       "      <th>comment</th>\n",
       "      <th>url</th>\n",
       "      <th>emojis</th>\n",
       "      <th>has_emoji</th>\n",
       "      <th>comment_noemoji</th>\n",
       "      <th>clean_comment</th>\n",
       "      <th>lang</th>\n",
       "      <th>lemma_comment</th>\n",
       "    </tr>\n",
       "  </thead>\n",
       "  <tbody>\n",
       "    <tr>\n",
       "      <th>0</th>\n",
       "      <td>ttjz6pax5A8</td>\n",
       "      <td>Trump reportedly rejected Zelenskyy's request ...</td>\n",
       "      <td>When it's TACOS turn NOBODY WILL BE ON HIS SID...</td>\n",
       "      <td>https://www.youtube.com/watch?v=ttjz6pax5A8</td>\n",
       "      <td></td>\n",
       "      <td>False</td>\n",
       "      <td>When it's TACOS turn NOBODY WILL BE ON HIS SID...</td>\n",
       "      <td>when it's tacos turn nobody will be on his sid...</td>\n",
       "      <td>en</td>\n",
       "      <td>taco turn foxfakebabble come go commit crime f...</td>\n",
       "    </tr>\n",
       "    <tr>\n",
       "      <th>1</th>\n",
       "      <td>ttjz6pax5A8</td>\n",
       "      <td>Trump reportedly rejected Zelenskyy's request ...</td>\n",
       "      <td>Why is Rachel on tv with that voice. Who does ...</td>\n",
       "      <td>https://www.youtube.com/watch?v=ttjz6pax5A8</td>\n",
       "      <td></td>\n",
       "      <td>False</td>\n",
       "      <td>Why is Rachel on tv with that voice. Who does ...</td>\n",
       "      <td>why is rachel on tv with that voice who does s...</td>\n",
       "      <td>en</td>\n",
       "      <td>rachel voice know</td>\n",
       "    </tr>\n",
       "    <tr>\n",
       "      <th>3</th>\n",
       "      <td>ttjz6pax5A8</td>\n",
       "      <td>Trump reportedly rejected Zelenskyy's request ...</td>\n",
       "      <td>Ukraine , DO NOT TRUST TRUMP He is a Putin pup...</td>\n",
       "      <td>https://www.youtube.com/watch?v=ttjz6pax5A8</td>\n",
       "      <td></td>\n",
       "      <td>False</td>\n",
       "      <td>Ukraine , DO NOT TRUST TRUMP He is a Putin pup...</td>\n",
       "      <td>ukraine do not trust trump he is a putin puppet</td>\n",
       "      <td>en</td>\n",
       "      <td>ukraine trust trump putin puppet</td>\n",
       "    </tr>\n",
       "    <tr>\n",
       "      <th>4</th>\n",
       "      <td>ttjz6pax5A8</td>\n",
       "      <td>Trump reportedly rejected Zelenskyy's request ...</td>\n",
       "      <td>Ukraine already has Storm Shadow although has ...</td>\n",
       "      <td>https://www.youtube.com/watch?v=ttjz6pax5A8</td>\n",
       "      <td></td>\n",
       "      <td>False</td>\n",
       "      <td>Ukraine already has Storm Shadow although has ...</td>\n",
       "      <td>ukraine already has storm shadow although has ...</td>\n",
       "      <td>en</td>\n",
       "      <td>ukraine storm shadow range tomehawk soon chang...</td>\n",
       "    </tr>\n",
       "    <tr>\n",
       "      <th>5</th>\n",
       "      <td>ttjz6pax5A8</td>\n",
       "      <td>Trump reportedly rejected Zelenskyy's request ...</td>\n",
       "      <td>Putin still playing trump, the fact that Trump...</td>\n",
       "      <td>https://www.youtube.com/watch?v=ttjz6pax5A8</td>\n",
       "      <td></td>\n",
       "      <td>False</td>\n",
       "      <td>Putin still playing trump, the fact that Trump...</td>\n",
       "      <td>putin still playing trump the fact that trump ...</td>\n",
       "      <td>en</td>\n",
       "      <td>putin play trump fact trump soft putin crazy</td>\n",
       "    </tr>\n",
       "  </tbody>\n",
       "</table>\n",
       "</div>"
      ],
      "text/plain": [
       "            id                                        video_title  \\\n",
       "0  ttjz6pax5A8  Trump reportedly rejected Zelenskyy's request ...   \n",
       "1  ttjz6pax5A8  Trump reportedly rejected Zelenskyy's request ...   \n",
       "3  ttjz6pax5A8  Trump reportedly rejected Zelenskyy's request ...   \n",
       "4  ttjz6pax5A8  Trump reportedly rejected Zelenskyy's request ...   \n",
       "5  ttjz6pax5A8  Trump reportedly rejected Zelenskyy's request ...   \n",
       "\n",
       "                                             comment  \\\n",
       "0  When it's TACOS turn NOBODY WILL BE ON HIS SID...   \n",
       "1  Why is Rachel on tv with that voice. Who does ...   \n",
       "3  Ukraine , DO NOT TRUST TRUMP He is a Putin pup...   \n",
       "4  Ukraine already has Storm Shadow although has ...   \n",
       "5  Putin still playing trump, the fact that Trump...   \n",
       "\n",
       "                                           url emojis  has_emoji  \\\n",
       "0  https://www.youtube.com/watch?v=ttjz6pax5A8             False   \n",
       "1  https://www.youtube.com/watch?v=ttjz6pax5A8             False   \n",
       "3  https://www.youtube.com/watch?v=ttjz6pax5A8             False   \n",
       "4  https://www.youtube.com/watch?v=ttjz6pax5A8             False   \n",
       "5  https://www.youtube.com/watch?v=ttjz6pax5A8             False   \n",
       "\n",
       "                                     comment_noemoji  \\\n",
       "0  When it's TACOS turn NOBODY WILL BE ON HIS SID...   \n",
       "1  Why is Rachel on tv with that voice. Who does ...   \n",
       "3  Ukraine , DO NOT TRUST TRUMP He is a Putin pup...   \n",
       "4  Ukraine already has Storm Shadow although has ...   \n",
       "5  Putin still playing trump, the fact that Trump...   \n",
       "\n",
       "                                       clean_comment lang  \\\n",
       "0  when it's tacos turn nobody will be on his sid...   en   \n",
       "1  why is rachel on tv with that voice who does s...   en   \n",
       "3    ukraine do not trust trump he is a putin puppet   en   \n",
       "4  ukraine already has storm shadow although has ...   en   \n",
       "5  putin still playing trump the fact that trump ...   en   \n",
       "\n",
       "                                       lemma_comment  \n",
       "0  taco turn foxfakebabble come go commit crime f...  \n",
       "1                                  rachel voice know  \n",
       "3                   ukraine trust trump putin puppet  \n",
       "4  ukraine storm shadow range tomehawk soon chang...  \n",
       "5       putin play trump fact trump soft putin crazy  "
      ]
     },
     "execution_count": 16,
     "metadata": {},
     "output_type": "execute_result"
    }
   ],
   "source": [
    "df_en.to_csv(\n",
    "    OUTPUT_FILE,\n",
    "    index=False,\n",
    "    encoding=\"utf-8\",\n",
    "    lineterminator=\"\\n\"\n",
    ")\n",
    "\n",
    "print(f\"Saved clean English-only dataset to {OUTPUT_FILE}\")\n",
    "df_en.head(5)"
   ]
  },
  {
   "cell_type": "code",
   "execution_count": 18,
   "id": "8def3d36",
   "metadata": {},
   "outputs": [],
   "source": [
    "def fix_newlines(text: str) -> str:\n",
    "    \"\"\"Replace linebreaks & separators with spaces (single-line CSV fields).\"\"\"\n",
    "    return str(text).replace(\"\\r\", \" \").replace(\"\\n\", \" \").replace(\"\\u2028\", \" \").replace(\"\\u2029\", \" \")\n",
    "\n",
    "for col in [\"comment\", \"lemma_comment\"]:\n",
    "    if col in df_en.columns:\n",
    "        df_en[col] = df_en[col].apply(fix_newlines)"
   ]
  },
  {
   "cell_type": "code",
   "execution_count": 19,
   "id": "9aeca6bc",
   "metadata": {},
   "outputs": [],
   "source": [
    "final_cols = [\"id\", \"video_title\", \"url\", \"comment\", \"lemma_comment\"]\n",
    "df_final = df_en[final_cols].copy()"
   ]
  },
  {
   "cell_type": "code",
   "execution_count": 20,
   "id": "53247ce9",
   "metadata": {},
   "outputs": [
    {
     "name": "stdout",
     "output_type": "stream",
     "text": [
      "Saved final cleaned dataset: youtube_comments_english.csv\n",
      "Rows: 68557 | Columns: ['id', 'video_title', 'url', 'comment', 'lemma_comment']\n"
     ]
    }
   ],
   "source": [
    "df_final.to_csv(\n",
    "    OUTPUT_FILE,\n",
    "    index=False,\n",
    "    encoding=\"utf-8\",\n",
    "    lineterminator=\"\\n\",\n",
    "    quoting=csv.QUOTE_ALL,\n",
    "    escapechar=\"\\\\\"\n",
    ")\n",
    "\n",
    "print(f\"Saved final cleaned dataset: {OUTPUT_FILE}\")\n",
    "print(f\"Rows: {len(df_final)} | Columns: {list(df_final.columns)}\")"
   ]
  },
  {
   "cell_type": "code",
   "execution_count": 21,
   "id": "ca47bb44",
   "metadata": {},
   "outputs": [
    {
     "data": {
      "text/html": [
       "<div>\n",
       "<style scoped>\n",
       "    .dataframe tbody tr th:only-of-type {\n",
       "        vertical-align: middle;\n",
       "    }\n",
       "\n",
       "    .dataframe tbody tr th {\n",
       "        vertical-align: top;\n",
       "    }\n",
       "\n",
       "    .dataframe thead th {\n",
       "        text-align: right;\n",
       "    }\n",
       "</style>\n",
       "<table border=\"1\" class=\"dataframe\">\n",
       "  <thead>\n",
       "    <tr style=\"text-align: right;\">\n",
       "      <th></th>\n",
       "      <th>id</th>\n",
       "      <th>video_title</th>\n",
       "      <th>url</th>\n",
       "      <th>comment</th>\n",
       "      <th>lemma_comment</th>\n",
       "    </tr>\n",
       "  </thead>\n",
       "  <tbody>\n",
       "    <tr>\n",
       "      <th>0</th>\n",
       "      <td>ttjz6pax5A8</td>\n",
       "      <td>Trump reportedly rejected Zelenskyy's request ...</td>\n",
       "      <td>https://www.youtube.com/watch?v=ttjz6pax5A8</td>\n",
       "      <td>When it's TACOS turn NOBODY WILL BE ON HIS SID...</td>\n",
       "      <td>taco turn foxfakebabble come go commit crime f...</td>\n",
       "    </tr>\n",
       "    <tr>\n",
       "      <th>1</th>\n",
       "      <td>ttjz6pax5A8</td>\n",
       "      <td>Trump reportedly rejected Zelenskyy's request ...</td>\n",
       "      <td>https://www.youtube.com/watch?v=ttjz6pax5A8</td>\n",
       "      <td>Why is Rachel on tv with that voice. Who does ...</td>\n",
       "      <td>rachel voice know</td>\n",
       "    </tr>\n",
       "    <tr>\n",
       "      <th>3</th>\n",
       "      <td>ttjz6pax5A8</td>\n",
       "      <td>Trump reportedly rejected Zelenskyy's request ...</td>\n",
       "      <td>https://www.youtube.com/watch?v=ttjz6pax5A8</td>\n",
       "      <td>Ukraine , DO NOT TRUST TRUMP He is a Putin pup...</td>\n",
       "      <td>ukraine trust trump putin puppet</td>\n",
       "    </tr>\n",
       "    <tr>\n",
       "      <th>4</th>\n",
       "      <td>ttjz6pax5A8</td>\n",
       "      <td>Trump reportedly rejected Zelenskyy's request ...</td>\n",
       "      <td>https://www.youtube.com/watch?v=ttjz6pax5A8</td>\n",
       "      <td>Ukraine already has Storm Shadow although has ...</td>\n",
       "      <td>ukraine storm shadow range tomehawk soon chang...</td>\n",
       "    </tr>\n",
       "    <tr>\n",
       "      <th>5</th>\n",
       "      <td>ttjz6pax5A8</td>\n",
       "      <td>Trump reportedly rejected Zelenskyy's request ...</td>\n",
       "      <td>https://www.youtube.com/watch?v=ttjz6pax5A8</td>\n",
       "      <td>Putin still playing trump, the fact that Trump...</td>\n",
       "      <td>putin play trump fact trump soft putin crazy</td>\n",
       "    </tr>\n",
       "  </tbody>\n",
       "</table>\n",
       "</div>"
      ],
      "text/plain": [
       "            id                                        video_title  \\\n",
       "0  ttjz6pax5A8  Trump reportedly rejected Zelenskyy's request ...   \n",
       "1  ttjz6pax5A8  Trump reportedly rejected Zelenskyy's request ...   \n",
       "3  ttjz6pax5A8  Trump reportedly rejected Zelenskyy's request ...   \n",
       "4  ttjz6pax5A8  Trump reportedly rejected Zelenskyy's request ...   \n",
       "5  ttjz6pax5A8  Trump reportedly rejected Zelenskyy's request ...   \n",
       "\n",
       "                                           url  \\\n",
       "0  https://www.youtube.com/watch?v=ttjz6pax5A8   \n",
       "1  https://www.youtube.com/watch?v=ttjz6pax5A8   \n",
       "3  https://www.youtube.com/watch?v=ttjz6pax5A8   \n",
       "4  https://www.youtube.com/watch?v=ttjz6pax5A8   \n",
       "5  https://www.youtube.com/watch?v=ttjz6pax5A8   \n",
       "\n",
       "                                             comment  \\\n",
       "0  When it's TACOS turn NOBODY WILL BE ON HIS SID...   \n",
       "1  Why is Rachel on tv with that voice. Who does ...   \n",
       "3  Ukraine , DO NOT TRUST TRUMP He is a Putin pup...   \n",
       "4  Ukraine already has Storm Shadow although has ...   \n",
       "5  Putin still playing trump, the fact that Trump...   \n",
       "\n",
       "                                       lemma_comment  \n",
       "0  taco turn foxfakebabble come go commit crime f...  \n",
       "1                                  rachel voice know  \n",
       "3                   ukraine trust trump putin puppet  \n",
       "4  ukraine storm shadow range tomehawk soon chang...  \n",
       "5       putin play trump fact trump soft putin crazy  "
      ]
     },
     "execution_count": 21,
     "metadata": {},
     "output_type": "execute_result"
    }
   ],
   "source": [
    "df_final.head(5)"
   ]
  }
 ],
 "metadata": {
  "kernelspec": {
   "display_name": "3.12.7",
   "language": "python",
   "name": "python3"
  },
  "language_info": {
   "codemirror_mode": {
    "name": "ipython",
    "version": 3
   },
   "file_extension": ".py",
   "mimetype": "text/x-python",
   "name": "python",
   "nbconvert_exporter": "python",
   "pygments_lexer": "ipython3",
   "version": "3.12.7"
  }
 },
 "nbformat": 4,
 "nbformat_minor": 5
}
