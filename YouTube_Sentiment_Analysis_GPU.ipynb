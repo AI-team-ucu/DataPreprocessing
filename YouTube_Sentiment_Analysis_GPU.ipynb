{
 "cells": [
  {
   "cell_type": "code",
   "execution_count": null,
   "id": "75a19892",
   "metadata": {},
   "outputs": [],
   "source": [
    "%pip install -q \\\n",
    "    torch torchvision torchaudio \\\n",
    "    transformers \\\n",
    "    pandas numpy \\\n",
    "    seaborn matplotlib \\\n",
    "    wordcloud tqdm \\\n",
    "    sentencepiece \\\n",
    "    scikit-learn"
   ]
  },
  {
   "cell_type": "code",
   "execution_count": null,
   "id": "192a5e23",
   "metadata": {},
   "outputs": [],
   "source": [
    "import torch\n",
    "from transformers import pipeline\n",
    "from tqdm import tqdm\n",
    "import pandas as pd\n",
    "import seaborn as sns\n",
    "import matplotlib.pyplot as plt\n",
    "from wordcloud import WordCloud"
   ]
  },
  {
   "cell_type": "code",
   "execution_count": null,
   "id": "a2f6f9b3",
   "metadata": {},
   "outputs": [],
   "source": [
    "device = 0 if torch.cuda.is_available() else -1\n",
    "print(f\"Using device: {'GPU' if device == 0 else 'CPU'}\")"
   ]
  },
  {
   "cell_type": "code",
   "execution_count": null,
   "id": "f60e126f",
   "metadata": {},
   "outputs": [],
   "source": [
    "plt.style.use(\"seaborn-v0_8-whitegrid\")"
   ]
  },
  {
   "cell_type": "code",
   "execution_count": null,
   "id": "f688cda3",
   "metadata": {},
   "outputs": [],
   "source": [
    "DATA_PATH = \"youtube_comments_english.csv\""
   ]
  },
  {
   "cell_type": "code",
   "execution_count": null,
   "id": "ffc85470",
   "metadata": {},
   "outputs": [],
   "source": [
    "df = pd.read_csv(DATA_PATH)\n",
    "print(f\"Loaded {len(df):,} comments\")\n",
    "print(\"Columns:\", list(df.columns))\n",
    "\n",
    "display(df.head(3))"
   ]
  },
  {
   "cell_type": "code",
   "execution_count": null,
   "id": "a6519880",
   "metadata": {},
   "outputs": [],
   "source": [
    "sentiment_model = pipeline(\n",
    "    \"sentiment-analysis\",\n",
    "    model=\"cardiffnlp/twitter-roberta-base-sentiment-latest\",\n",
    "    device=device\n",
    ")"
   ]
  },
  {
   "cell_type": "code",
   "execution_count": null,
   "id": "069e12fc",
   "metadata": {},
   "outputs": [],
   "source": [
    "batch_size = 64\n",
    "sentiments = []"
   ]
  },
  {
   "cell_type": "code",
   "execution_count": null,
   "id": "4658ce88",
   "metadata": {},
   "outputs": [],
   "source": [
    "print(\"\\nRunning sentiment analysis...\")\n",
    "texts = df[\"lemma_comment\"].astype(str).tolist()\n",
    "\n",
    "for i in tqdm(range(0, len(texts), batch_size), desc=\"Sentiment Analysis\", ncols=100):\n",
    "    batch = texts[i:i + batch_size]\n",
    "    results = sentiment_model(batch)\n",
    "    sentiments.extend([r[\"label\"] for r in results])\n",
    "\n",
    "df[\"sentiment_roberta\"] = sentiments"
   ]
  },
  {
   "cell_type": "code",
   "execution_count": null,
   "id": "692cc788",
   "metadata": {},
   "outputs": [],
   "source": [
    "labels = [\"pro-Ukraine\", \"pro-Russia\", \"neutral\"]"
   ]
  },
  {
   "cell_type": "code",
   "execution_count": null,
   "id": "e9afe86d",
   "metadata": {},
   "outputs": [],
   "source": [
    "stance_model = pipeline(\n",
    "    \"zero-shot-classification\",\n",
    "    model=\"MoritzLaurer/DeBERTa-v3-base-mnli-fever-anli\",\n",
    "    device=device\n",
    ")"
   ]
  },
  {
   "cell_type": "code",
   "execution_count": null,
   "id": "1027d673",
   "metadata": {},
   "outputs": [],
   "source": [
    "batch_size = 16\n",
    "stances = []\n",
    "\n",
    "print(\"\\nRunning stance classification...\")\n",
    "for i in tqdm(range(0, len(texts), batch_size), desc=\"Stance Analysis\", ncols=100):\n",
    "    batch = texts[i:i + batch_size]\n",
    "    batch_results = stance_model(batch, candidate_labels=labels, multi_label=False, truncation=True)\n",
    "    stances.extend([r[\"labels\"][0] for r in batch_results])\n",
    "\n",
    "df[\"stance\"] = stances"
   ]
  },
  {
   "cell_type": "code",
   "execution_count": null,
   "id": "ed6ad9ad",
   "metadata": {},
   "outputs": [],
   "source": [
    "df.to_csv(\"youtube_comments_with_sentiment_stance.csv\", index=False, encoding=\"utf-8\")\n",
    "print(\"\\nAnalysis complete! Saved to youtube_comments_with_sentiment_stance.csv\")"
   ]
  },
  {
   "cell_type": "code",
   "execution_count": null,
   "id": "afee8aa5",
   "metadata": {},
   "outputs": [],
   "source": [
    "df[[\"lemma_comment\", \"sentiment_roberta\", \"stance\"]].head(10)"
   ]
  },
  {
   "cell_type": "code",
   "execution_count": null,
   "id": "51713ebe",
   "metadata": {},
   "outputs": [],
   "source": [
    "plt.figure(figsize=(8,4))\n",
    "sns.countplot(\n",
    "    data=df,\n",
    "    x=\"sentiment_roberta\",\n",
    "    order=[\"negative\", \"neutral\", \"positive\"],\n",
    "    palette=\"coolwarm\"\n",
    ")\n",
    "plt.title(\"Sentiment Distribution\")\n",
    "plt.xlabel(\"Sentiment\")\n",
    "plt.ylabel(\"Number of Comments\")\n",
    "plt.tight_layout()\n",
    "plt.show()"
   ]
  },
  {
   "cell_type": "code",
   "execution_count": null,
   "id": "cbb519b6",
   "metadata": {},
   "outputs": [],
   "source": [
    "plt.figure(figsize=(8,4))\n",
    "order = df[\"stance\"].value_counts().index\n",
    "sns.countplot(\n",
    "    data=df,\n",
    "    x=\"stance\",\n",
    "    order=order,\n",
    "    palette=\"Set2\"\n",
    ")\n",
    "plt.title(\"Stance Distribution\")\n",
    "plt.xlabel(\"Stance Label\")\n",
    "plt.ylabel(\"Number of Comments\")\n",
    "plt.tight_layout()\n",
    "plt.show()"
   ]
  },
  {
   "cell_type": "code",
   "execution_count": null,
   "id": "bc17666b",
   "metadata": {},
   "outputs": [],
   "source": [
    "ct = pd.crosstab(df[\"stance\"], df[\"sentiment_roberta\"], normalize=\"index\")\n",
    "plt.figure(figsize=(8,5))\n",
    "sns.heatmap(ct, annot=True, cmap=\"YlGnBu\", fmt=\".2f\")\n",
    "plt.title(\"Sentiment Composition within Each Stance\")\n",
    "plt.xlabel(\"Sentiment\")\n",
    "plt.ylabel(\"Stance\")\n",
    "plt.tight_layout()\n",
    "plt.show()"
   ]
  },
  {
   "cell_type": "code",
   "execution_count": null,
   "id": "b2d428a9",
   "metadata": {},
   "outputs": [],
   "source": [
    "sentiment_colors = {\n",
    "    \"positive\": \"Greens\",\n",
    "    \"neutral\": \"Greys\",\n",
    "    \"negative\": \"Reds\"\n",
    "}\n",
    "\n",
    "for sentiment, cmap in sentiment_colors.items():\n",
    "    text = \" \".join(df.loc[df[\"sentiment_roberta\"] == sentiment, \"lemma_comment\"].dropna().astype(str))\n",
    "    if text.strip():\n",
    "        wc = WordCloud(\n",
    "            width=800, height=400, background_color=\"white\",\n",
    "            colormap=cmap, max_words=150, collocations=False\n",
    "        ).generate(text)\n",
    "        plt.figure(figsize=(10,5))\n",
    "        plt.imshow(wc, interpolation=\"bilinear\")\n",
    "        plt.axis(\"off\")\n",
    "        plt.title(f\"Most Frequent Words in {sentiment.capitalize()} Comments\")\n",
    "        plt.tight_layout()\n",
    "        plt.show()"
   ]
  }
 ],
 "metadata": {
  "kernelspec": {
   "display_name": "3.12.7",
   "language": "python",
   "name": "python3"
  },
  "language_info": {
   "codemirror_mode": {
    "name": "ipython",
    "version": 3
   },
   "file_extension": ".py",
   "mimetype": "text/x-python",
   "name": "python",
   "nbconvert_exporter": "python",
   "pygments_lexer": "ipython3",
   "version": "3.12.7"
  }
 },
 "nbformat": 4,
 "nbformat_minor": 5
}
