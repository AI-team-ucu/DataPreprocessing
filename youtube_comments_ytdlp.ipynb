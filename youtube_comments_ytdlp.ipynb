{
 "cells": [
  {
   "cell_type": "code",
   "execution_count": 2,
   "id": "33df1e05",
   "metadata": {},
   "outputs": [
    {
     "name": "stdout",
     "output_type": "stream",
     "text": [
      "Requirement already satisfied: yt-dlp in /home/yuliana/.pyenv/versions/3.12.7/lib/python3.12/site-packages (2025.10.14)\n",
      "Requirement already satisfied: pandas in /home/yuliana/.pyenv/versions/3.12.7/lib/python3.12/site-packages (2.3.1)\n",
      "Requirement already satisfied: tqdm in /home/yuliana/.local/lib/python3.12/site-packages (4.67.1)\n",
      "Requirement already satisfied: numpy>=1.26.0 in /home/yuliana/.pyenv/versions/3.12.7/lib/python3.12/site-packages (from pandas) (2.3.2)\n",
      "Requirement already satisfied: python-dateutil>=2.8.2 in /home/yuliana/.local/lib/python3.12/site-packages (from pandas) (2.9.0.post0)\n",
      "Requirement already satisfied: pytz>=2020.1 in /home/yuliana/.pyenv/versions/3.12.7/lib/python3.12/site-packages (from pandas) (2025.2)\n",
      "Requirement already satisfied: tzdata>=2022.7 in /home/yuliana/.pyenv/versions/3.12.7/lib/python3.12/site-packages (from pandas) (2025.2)\n",
      "Requirement already satisfied: six>=1.5 in /home/yuliana/.local/lib/python3.12/site-packages (from python-dateutil>=2.8.2->pandas) (1.17.0)\n",
      "Note: you may need to restart the kernel to use updated packages.\n"
     ]
    }
   ],
   "source": [
    "%pip install yt-dlp pandas tqdm"
   ]
  },
  {
   "cell_type": "code",
   "execution_count": 3,
   "id": "54f7edcb",
   "metadata": {},
   "outputs": [],
   "source": [
    "import yt_dlp\n",
    "import pandas as pd\n",
    "from tqdm import tqdm"
   ]
  },
  {
   "cell_type": "code",
   "execution_count": 4,
   "id": "9dcf1267",
   "metadata": {},
   "outputs": [],
   "source": [
    "INPUT_FILE = \"ids.txt\"\n",
    "OUTPUT_FILE = \"youtube_comments.csv\""
   ]
  },
  {
   "cell_type": "code",
   "execution_count": null,
   "id": "c2194e31",
   "metadata": {},
   "outputs": [],
   "source": [
    "\n",
    "def get_comments_ytdlp(video_id):\n",
    "    \"\"\"Extract comments with extended metadata using yt-dlp.\"\"\"\n",
    "    url = f\"https://www.youtube.com/watch?v={video_id}\"\n",
    "    ydl_opts = {\n",
    "        \"skip_download\": True,\n",
    "        \"quiet\": True,\n",
    "        \"extract_flat\": False,\n",
    "        \"extractor_args\": {\"youtube\": {\"player_client\": [\"android\"]}},\n",
    "        \"getcomments\": True,\n",
    "    }\n",
    "\n",
    "    with yt_dlp.YoutubeDL(ydl_opts) as ydl:\n",
    "        info = ydl.extract_info(url, download=False)\n",
    "\n",
    "    comments = info.get(\"comments\", [])\n",
    "    title = info.get(\"title\", \"Unknown title\")\n",
    "\n",
    "    rows = []\n",
    "    for c in comments:\n",
    "        text = c.get(\"text\", \"\").replace(\"\\n\", \" \").strip()\n",
    "        if not text:\n",
    "            continue\n",
    "        rows.append({\n",
    "            \"id\": video_id,\n",
    "            \"video_title\": title,\n",
    "            \"comment\": text,\n",
    "            \"author\": c.get(\"author\", \"\"),\n",
    "            \"like_count\": c.get(\"like_count\", 0),\n",
    "            \"published\": c.get(\"timestamp\", \"\"),\n",
    "            \"url\": url\n",
    "        })\n",
    "    return rows"
   ]
  },
  {
   "cell_type": "code",
   "execution_count": 7,
   "id": "20cefa2f",
   "metadata": {},
   "outputs": [
    {
     "name": "stderr",
     "output_type": "stream",
     "text": [
      "Scraping videos:   0%|          | 0/34 [00:00<?, ?it/s]WARNING: [youtube] ttjz6pax5A8: android client https formats require a GVS PO Token which was not provided. They will be skipped as they may yield HTTP Error 403. You can manually pass a GVS PO Token for this client with --extractor-args \"youtube:po_token=android.gvs+XXX\". For more information, refer to  https://github.com/yt-dlp/yt-dlp/wiki/PO-Token-Guide\n",
      "Scraping videos:   3%|▎         | 1/34 [00:54<30:13, 54.94s/it]WARNING: [youtube] CMqZ2qbNR-k: android client https formats require a GVS PO Token which was not provided. They will be skipped as they may yield HTTP Error 403. You can manually pass a GVS PO Token for this client with --extractor-args \"youtube:po_token=android.gvs+XXX\". For more information, refer to  https://github.com/yt-dlp/yt-dlp/wiki/PO-Token-Guide\n",
      "Scraping videos:   6%|▌         | 2/34 [01:25<21:43, 40.72s/it]WARNING: [youtube] B3BtOSfkXqw: android client https formats require a GVS PO Token which was not provided. They will be skipped as they may yield HTTP Error 403. You can manually pass a GVS PO Token for this client with --extractor-args \"youtube:po_token=android.gvs+XXX\". For more information, refer to  https://github.com/yt-dlp/yt-dlp/wiki/PO-Token-Guide\n",
      "Scraping videos:   9%|▉         | 3/34 [01:51<17:32, 33.94s/it]WARNING: [youtube] BilmLHk4Euc: android client https formats require a GVS PO Token which was not provided. They will be skipped as they may yield HTTP Error 403. You can manually pass a GVS PO Token for this client with --extractor-args \"youtube:po_token=android.gvs+XXX\". For more information, refer to  https://github.com/yt-dlp/yt-dlp/wiki/PO-Token-Guide\n",
      "Scraping videos:  12%|█▏        | 4/34 [02:26<17:09, 34.33s/it]WARNING: [youtube] 95VuLOQ-sIc: android client https formats require a GVS PO Token which was not provided. They will be skipped as they may yield HTTP Error 403. You can manually pass a GVS PO Token for this client with --extractor-args \"youtube:po_token=android.gvs+XXX\". For more information, refer to  https://github.com/yt-dlp/yt-dlp/wiki/PO-Token-Guide\n",
      "Scraping videos:  15%|█▍        | 5/34 [03:13<18:43, 38.76s/it]WARNING: [youtube] 2xGnjA2pvDs: android client https formats require a GVS PO Token which was not provided. They will be skipped as they may yield HTTP Error 403. You can manually pass a GVS PO Token for this client with --extractor-args \"youtube:po_token=android.gvs+XXX\". For more information, refer to  https://github.com/yt-dlp/yt-dlp/wiki/PO-Token-Guide\n",
      "Scraping videos:  18%|█▊        | 6/34 [03:19<12:54, 27.66s/it]WARNING: [youtube] tV1_0UB24Sw: android client https formats require a GVS PO Token which was not provided. They will be skipped as they may yield HTTP Error 403. You can manually pass a GVS PO Token for this client with --extractor-args \"youtube:po_token=android.gvs+XXX\". For more information, refer to  https://github.com/yt-dlp/yt-dlp/wiki/PO-Token-Guide\n",
      "Scraping videos:  21%|██        | 7/34 [03:40<11:32, 25.66s/it]WARNING: [youtube] QYTK0PS2GgM: android client https formats require a GVS PO Token which was not provided. They will be skipped as they may yield HTTP Error 403. You can manually pass a GVS PO Token for this client with --extractor-args \"youtube:po_token=android.gvs+XXX\". For more information, refer to  https://github.com/yt-dlp/yt-dlp/wiki/PO-Token-Guide\n",
      "Scraping videos:  24%|██▎       | 8/34 [04:21<13:11, 30.42s/it]WARNING: [youtube] vAdMbP-Srow: android client https formats require a GVS PO Token which was not provided. They will be skipped as they may yield HTTP Error 403. You can manually pass a GVS PO Token for this client with --extractor-args \"youtube:po_token=android.gvs+XXX\". For more information, refer to  https://github.com/yt-dlp/yt-dlp/wiki/PO-Token-Guide\n",
      "Scraping videos:  26%|██▋       | 9/34 [05:37<18:39, 44.76s/it]WARNING: [youtube] KeB0zpP-yQ0: android client https formats require a GVS PO Token which was not provided. They will be skipped as they may yield HTTP Error 403. You can manually pass a GVS PO Token for this client with --extractor-args \"youtube:po_token=android.gvs+XXX\". For more information, refer to  https://github.com/yt-dlp/yt-dlp/wiki/PO-Token-Guide\n",
      "Scraping videos:  29%|██▉       | 10/34 [06:00<15:11, 37.97s/it]WARNING: [youtube] xjtYNvwsYGg: android client https formats require a GVS PO Token which was not provided. They will be skipped as they may yield HTTP Error 403. You can manually pass a GVS PO Token for this client with --extractor-args \"youtube:po_token=android.gvs+XXX\". For more information, refer to  https://github.com/yt-dlp/yt-dlp/wiki/PO-Token-Guide\n",
      "Scraping videos:  32%|███▏      | 11/34 [06:19<12:21, 32.24s/it]WARNING: [youtube] 47XITR7MLXU: android client https formats require a GVS PO Token which was not provided. They will be skipped as they may yield HTTP Error 403. You can manually pass a GVS PO Token for this client with --extractor-args \"youtube:po_token=android.gvs+XXX\". For more information, refer to  https://github.com/yt-dlp/yt-dlp/wiki/PO-Token-Guide\n",
      "Scraping videos:  35%|███▌      | 12/34 [07:08<13:39, 37.25s/it]WARNING: [youtube] PbgVumaLCl0: android client https formats require a GVS PO Token which was not provided. They will be skipped as they may yield HTTP Error 403. You can manually pass a GVS PO Token for this client with --extractor-args \"youtube:po_token=android.gvs+XXX\". For more information, refer to  https://github.com/yt-dlp/yt-dlp/wiki/PO-Token-Guide\n",
      "Scraping videos:  38%|███▊      | 13/34 [07:34<11:53, 33.97s/it]WARNING: [youtube] mPAk85jAz1s: android client https formats require a GVS PO Token which was not provided. They will be skipped as they may yield HTTP Error 403. You can manually pass a GVS PO Token for this client with --extractor-args \"youtube:po_token=android.gvs+XXX\". For more information, refer to  https://github.com/yt-dlp/yt-dlp/wiki/PO-Token-Guide\n",
      "Scraping videos:  41%|████      | 14/34 [07:57<10:12, 30.64s/it]WARNING: [youtube] U741F22Cw80: android client https formats require a GVS PO Token which was not provided. They will be skipped as they may yield HTTP Error 403. You can manually pass a GVS PO Token for this client with --extractor-args \"youtube:po_token=android.gvs+XXX\". For more information, refer to  https://github.com/yt-dlp/yt-dlp/wiki/PO-Token-Guide\n",
      "Scraping videos:  44%|████▍     | 15/34 [09:56<18:09, 57.34s/it]WARNING: [youtube] 7sX0PIyCnKY: android client https formats require a GVS PO Token which was not provided. They will be skipped as they may yield HTTP Error 403. You can manually pass a GVS PO Token for this client with --extractor-args \"youtube:po_token=android.gvs+XXX\". For more information, refer to  https://github.com/yt-dlp/yt-dlp/wiki/PO-Token-Guide\n",
      "Scraping videos:  47%|████▋     | 16/34 [11:28<20:16, 67.57s/it]WARNING: [youtube] AUaqB8_Soko: android client https formats require a GVS PO Token which was not provided. They will be skipped as they may yield HTTP Error 403. You can manually pass a GVS PO Token for this client with --extractor-args \"youtube:po_token=android.gvs+XXX\". For more information, refer to  https://github.com/yt-dlp/yt-dlp/wiki/PO-Token-Guide\n",
      "Scraping videos:  50%|█████     | 17/34 [16:09<37:18, 131.69s/it]WARNING: [youtube] IvNc9yDox8U: android client https formats require a GVS PO Token which was not provided. They will be skipped as they may yield HTTP Error 403. You can manually pass a GVS PO Token for this client with --extractor-args \"youtube:po_token=android.gvs+XXX\". For more information, refer to  https://github.com/yt-dlp/yt-dlp/wiki/PO-Token-Guide\n",
      "Scraping videos:  53%|█████▎    | 18/34 [22:37<55:42, 208.89s/it]WARNING: [youtube] fk5DgCwdTCw: android client https formats require a GVS PO Token which was not provided. They will be skipped as they may yield HTTP Error 403. You can manually pass a GVS PO Token for this client with --extractor-args \"youtube:po_token=android.gvs+XXX\". For more information, refer to  https://github.com/yt-dlp/yt-dlp/wiki/PO-Token-Guide\n",
      "Scraping videos:  56%|█████▌    | 19/34 [25:51<51:04, 204.27s/it]WARNING: [youtube] _nI1sEpOMc8: android client https formats require a GVS PO Token which was not provided. They will be skipped as they may yield HTTP Error 403. You can manually pass a GVS PO Token for this client with --extractor-args \"youtube:po_token=android.gvs+XXX\". For more information, refer to  https://github.com/yt-dlp/yt-dlp/wiki/PO-Token-Guide\n",
      "Scraping videos:  59%|█████▉    | 20/34 [26:05<34:23, 147.37s/it]WARNING: [youtube] U8iYG1jFo6c: android client https formats require a GVS PO Token which was not provided. They will be skipped as they may yield HTTP Error 403. You can manually pass a GVS PO Token for this client with --extractor-args \"youtube:po_token=android.gvs+XXX\". For more information, refer to  https://github.com/yt-dlp/yt-dlp/wiki/PO-Token-Guide\n",
      "Scraping videos:  62%|██████▏   | 21/34 [27:25<27:30, 126.97s/it]WARNING: [youtube] 23_wlewMeGA: android client https formats require a GVS PO Token which was not provided. They will be skipped as they may yield HTTP Error 403. You can manually pass a GVS PO Token for this client with --extractor-args \"youtube:po_token=android.gvs+XXX\". For more information, refer to  https://github.com/yt-dlp/yt-dlp/wiki/PO-Token-Guide\n",
      "Scraping videos:  65%|██████▍   | 22/34 [29:55<26:48, 134.03s/it]WARNING: [youtube] 0js0eitf3hI: android client https formats require a GVS PO Token which was not provided. They will be skipped as they may yield HTTP Error 403. You can manually pass a GVS PO Token for this client with --extractor-args \"youtube:po_token=android.gvs+XXX\". For more information, refer to  https://github.com/yt-dlp/yt-dlp/wiki/PO-Token-Guide\n",
      "Scraping videos:  68%|██████▊   | 23/34 [30:27<18:55, 103.26s/it]WARNING: [youtube] VEErDdjuWL0: android client https formats require a GVS PO Token which was not provided. They will be skipped as they may yield HTTP Error 403. You can manually pass a GVS PO Token for this client with --extractor-args \"youtube:po_token=android.gvs+XXX\". For more information, refer to  https://github.com/yt-dlp/yt-dlp/wiki/PO-Token-Guide\n",
      "Scraping videos:  71%|███████   | 24/34 [31:16<14:31, 87.14s/it] WARNING: [youtube] 8wIk-FMsXb8: android client https formats require a GVS PO Token which was not provided. They will be skipped as they may yield HTTP Error 403. You can manually pass a GVS PO Token for this client with --extractor-args \"youtube:po_token=android.gvs+XXX\". For more information, refer to  https://github.com/yt-dlp/yt-dlp/wiki/PO-Token-Guide\n",
      "Scraping videos:  74%|███████▎  | 25/34 [32:12<11:38, 77.66s/it]WARNING: [youtube] KTchqnNQf9M: android client https formats require a GVS PO Token which was not provided. They will be skipped as they may yield HTTP Error 403. You can manually pass a GVS PO Token for this client with --extractor-args \"youtube:po_token=android.gvs+XXX\". For more information, refer to  https://github.com/yt-dlp/yt-dlp/wiki/PO-Token-Guide\n",
      "Scraping videos:  76%|███████▋  | 26/34 [33:57<11:26, 85.86s/it]WARNING: [youtube] nsjCUi-6m_M: android client https formats require a GVS PO Token which was not provided. They will be skipped as they may yield HTTP Error 403. You can manually pass a GVS PO Token for this client with --extractor-args \"youtube:po_token=android.gvs+XXX\". For more information, refer to  https://github.com/yt-dlp/yt-dlp/wiki/PO-Token-Guide\n",
      "Scraping videos:  79%|███████▉  | 27/34 [34:32<08:14, 70.63s/it]WARNING: [youtube] O2Adnw7R7YI: android client https formats require a GVS PO Token which was not provided. They will be skipped as they may yield HTTP Error 403. You can manually pass a GVS PO Token for this client with --extractor-args \"youtube:po_token=android.gvs+XXX\". For more information, refer to  https://github.com/yt-dlp/yt-dlp/wiki/PO-Token-Guide\n",
      "Scraping videos:  82%|████████▏ | 28/34 [35:30<06:40, 66.74s/it]WARNING: [youtube] HHbkVdiejGI: android client https formats require a GVS PO Token which was not provided. They will be skipped as they may yield HTTP Error 403. You can manually pass a GVS PO Token for this client with --extractor-args \"youtube:po_token=android.gvs+XXX\". For more information, refer to  https://github.com/yt-dlp/yt-dlp/wiki/PO-Token-Guide\n",
      "Scraping videos:  85%|████████▌ | 29/34 [35:47<04:18, 51.76s/it]WARNING: [youtube] xArzBBvGxIU: android client https formats require a GVS PO Token which was not provided. They will be skipped as they may yield HTTP Error 403. You can manually pass a GVS PO Token for this client with --extractor-args \"youtube:po_token=android.gvs+XXX\". For more information, refer to  https://github.com/yt-dlp/yt-dlp/wiki/PO-Token-Guide\n",
      "Scraping videos:  88%|████████▊ | 30/34 [35:55<02:34, 38.74s/it]WARNING: [youtube] JP5Y4UHP1xM: android client https formats require a GVS PO Token which was not provided. They will be skipped as they may yield HTTP Error 403. You can manually pass a GVS PO Token for this client with --extractor-args \"youtube:po_token=android.gvs+XXX\". For more information, refer to  https://github.com/yt-dlp/yt-dlp/wiki/PO-Token-Guide\n",
      "Scraping videos:  91%|█████████ | 31/34 [35:58<01:23, 27.96s/it]WARNING: [youtube] _7hRRUTf8VY: android client https formats require a GVS PO Token which was not provided. They will be skipped as they may yield HTTP Error 403. You can manually pass a GVS PO Token for this client with --extractor-args \"youtube:po_token=android.gvs+XXX\". For more information, refer to  https://github.com/yt-dlp/yt-dlp/wiki/PO-Token-Guide\n",
      "Scraping videos:  94%|█████████▍| 32/34 [36:35<01:01, 30.87s/it]WARNING: [youtube] Untywemw2Ro: android client https formats require a GVS PO Token which was not provided. They will be skipped as they may yield HTTP Error 403. You can manually pass a GVS PO Token for this client with --extractor-args \"youtube:po_token=android.gvs+XXX\". For more information, refer to  https://github.com/yt-dlp/yt-dlp/wiki/PO-Token-Guide\n",
      "Scraping videos:  97%|█████████▋| 33/34 [36:39<00:22, 22.56s/it]WARNING: [youtube] CL0RoslPYxc: android client https formats require a GVS PO Token which was not provided. They will be skipped as they may yield HTTP Error 403. You can manually pass a GVS PO Token for this client with --extractor-args \"youtube:po_token=android.gvs+XXX\". For more information, refer to  https://github.com/yt-dlp/yt-dlp/wiki/PO-Token-Guide\n",
      "Scraping videos: 100%|██████████| 34/34 [37:04<00:00, 65.44s/it]\n"
     ]
    },
    {
     "name": "stdout",
     "output_type": "stream",
     "text": [
      "Saved 77912 comments to youtube_comments.csv\n"
     ]
    }
   ],
   "source": [
    "with open(INPUT_FILE, \"r\") as f:\n",
    "    video_ids = [line.strip() for line in f if line.strip()]\n",
    "\n",
    "all_comments = []\n",
    "for vid in tqdm(video_ids, desc=\"Scraping videos\"):\n",
    "    try:\n",
    "        all_comments.extend(get_comments_ytdlp(vid))\n",
    "    except Exception as e:\n",
    "        print(f\"Error scraping {vid}: {e}\")\n",
    "\n",
    "df = pd.DataFrame(all_comments)\n",
    "df.to_csv(OUTPUT_FILE, index=False)\n",
    "print(f\"Saved {len(df)} comments to {OUTPUT_FILE}\")"
   ]
  }
 ],
 "metadata": {
  "kernelspec": {
   "display_name": "3.12.7",
   "language": "python",
   "name": "python3"
  },
  "language_info": {
   "codemirror_mode": {
    "name": "ipython",
    "version": 3
   },
   "file_extension": ".py",
   "mimetype": "text/x-python",
   "name": "python",
   "nbconvert_exporter": "python",
   "pygments_lexer": "ipython3",
   "version": "3.12.7"
  }
 },
 "nbformat": 4,
 "nbformat_minor": 5
}
